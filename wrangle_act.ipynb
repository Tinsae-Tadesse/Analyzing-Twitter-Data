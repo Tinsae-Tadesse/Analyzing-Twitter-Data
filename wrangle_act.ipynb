{
 "cells": [
  {
   "cell_type": "markdown",
   "metadata": {},
   "source": [
    "# Project: Wrangling And Analyzing Twitter Data\n",
    "\n",
    "\n",
    "**Table of Contents**\n",
    "\n",
    "- [Introduction](#introduction)\n",
    "- [Data Wrangling](#data_wrangling)\n",
    "    - [Gathering Data](#gathering_data)\n",
    "    - [Assessing Data](#assessing_data)\n",
    "    - [Cleaning Data](#cleaning_data)\n",
    "    - [Storing Data](#storing_data)\n",
    "- [Analysis](#analysis) \n",
    "    - [Research Question 1](#research_question_1)\n",
    "    - [Research Question 2](#research_question_2)\n",
    "    - [Research Question 3](#research_question_3)\n",
    "- [Conclusion](#conclusion)\n",
    "\n",
    "<a id='introduction'></a>\n",
    "\n",
    "# Introduction\n",
    "\n",
    "This project concentrates on wrangling and analyzing tweet data of the Twitter account [\\@dog_rates](https://twitter.com/dog_rates), also known as [WeRateDogs](https://en.wikipedia.org/wiki/WeRateDogs). This account has more than 8.7 Million followers. (As of June 2, 2020) WeRateDogs is dedicated to rate people’s dogs. The secrets behind popularity of WeRateDogs are, their ratings and funny comments they write about dogs they rate.\n",
    "\n",
    "<img src='images/Profile_of_WeRateDogs.png' alt='Profile of WeRateDogs' />\n",
    "\n",
    "In most cases, their ratings have a denominator of 10; but, the numerators almost always are greater than 10. You may be wondering how much funny their comments are, See the figure below.\n",
    "\n",
    "<a id='sample_tweet_by_WeRateDogs'></a>\n",
    "\n",
    "<img src='images/Sample_tweet_by_WeRateDogs.png' alt='Sample tweet by WeRateDogs' />\n",
    "\n",
    "Goal of this project is to wrangle and analyze tweet data of WeRateDogs. The wrangling process involved finding, fixing, and documenting quality and tidiness issues. On the other hand; outcome of the analysis phase was, three interesting findings about WeRateDogs.\n"
   ]
  },
  {
   "cell_type": "code",
   "execution_count": 1,
   "metadata": {},
   "outputs": [],
   "source": [
    "# Import libraries\n",
    "import json\n",
    "import os\n",
    "import numpy as np\n",
    "import pandas as pd\n",
    "import matplotlib.pyplot as plt\n",
    "import requests\n",
    "import tweepy\n",
    "from tweepy import OAuthHandler\n",
    "from timeit import default_timer as timer\n",
    "\n",
    "%matplotlib inline\n",
    "# Set to this value to read the truncated texts from twitter_archive\n",
    "pd.set_option('max_colwidth', 800)"
   ]
  },
  {
   "cell_type": "markdown",
   "metadata": {},
   "source": [
    "\n",
    "<a id='data_wrangling'></a>\n",
    "    \n",
    "# Data Wrangling\n",
    "\n",
    "In the wrangling process three main operations were performed. First; downloading the tweeter data and predictions of dog breeds. Second, assessing the data for quality and tidiness issues. Finally; creating a master dataset which was used in the analysis phase.\n",
    "\n",
    "<a id='gathering_data'/></a>\n",
    "\n",
    "## Gathering Data\n",
    "\n",
    "In this project, gathering data involved:\n",
    "\n",
    "- Manually downloading WeRateDogs’ Twitter archive,\n",
    "\n",
    "- Programmatically downloading missing properties using [Twitter’s API for Python](http://docs.tweepy.org/en/stable/), and\n",
    "\n",
    "- Programmatically downloading image predictions using [Requests](https://requests.readthedocs.io/en/master/).\n"
   ]
  },
  {
   "cell_type": "code",
   "execution_count": 2,
   "metadata": {},
   "outputs": [],
   "source": [
    "# Read the WeRateDogs archive\n",
    "twitter_archive = pd.read_csv('data/twitter-archive-enhanced.csv')"
   ]
  },
  {
   "cell_type": "code",
   "execution_count": 3,
   "metadata": {},
   "outputs": [
    {
     "name": "stdout",
     "output_type": "stream",
     "text": [
      "File downloaded successfully!\n",
      "File written successfully!\n"
     ]
    }
   ],
   "source": [
    "# Programmatically download image predictions using Requests. \n",
    "# And save them to a file.\n",
    "url = 'https://d17h27t6h515a5.cloudfront.net/topher/2017/August/599fd2ad_image-predictions/image-predictions.tsv'\n",
    "file_name_tsv = url.split('/')[-1]\n",
    "try:\n",
    "    response = requests.get(url)\n",
    "    print('File downloaded successfully!')\n",
    "    \n",
    "    with open(os.path.join('data/', file_name_tsv), 'wb') as file:\n",
    "        file.write(response.content)\n",
    "    print('File written successfully!')\n",
    "    \n",
    "    # Read data from the downloaded file \n",
    "    image_predictions = pd.read_csv('data/image-predictions.tsv', '\\t')\n",
    "except requests.ConnectionError:\n",
    "    print('Failed to establish a new connection!')\n",
    "except IOError:\n",
    "    print('Failed to write to a file!')"
   ]
  },
  {
   "cell_type": "code",
   "execution_count": null,
   "metadata": {},
   "outputs": [],
   "source": [
    "# Programmatically download missing tweet properties using API.\n",
    "\n",
    "# Setup authentication handler\n",
    "# These are hidden to comply with Twitter's API terms and conditions\n",
    "consumer_key = 'HIDDEN'\n",
    "consumer_secret = 'HIDDEN'\n",
    "access_token = 'HIDDEN'\n",
    "access_secret = 'HIDDEN'\n",
    "\n",
    "auth = OAuthHandler(consumer_key, consumer_secret)\n",
    "auth.set_access_token(access_token, access_secret)\n",
    "\n",
    "# NOTE TO REVIEWER: this student had mobile verification issues so the following\n",
    "# Twitter API code was sent to this student from a Udacity instructor.\n",
    "\n",
    "# Instantiate the Twitter API\n",
    "api = tweepy.API(auth_handler= auth, wait_on_rate_limit=True)\n",
    "tweet_ids = twitter_archive.tweet_id\n",
    "file_name_txt = 'tweet-json.txt'\n",
    "correct_id_count, failed_id_count = (0, 0)\n",
    "start_time = timer()\n",
    "\n",
    "# Query Twitter using its API and,\n",
    "# Write the response object to a text file\n",
    "with open(os.path.join('data/', file_name_txt), 'wb') as file:\n",
    "    for tweet_id in tweet_ids:\n",
    "        try:\n",
    "            json.dump(api.get_status(tweet_id, tweet_mode='extended'), file)\n",
    "            correct_id_count += 1\n",
    "            print('Fetched Id {0}: {1}'.format(correct_id_count, str(tweet_id)))\n",
    "        except tweepy.TweepError:\n",
    "            failed_id_count += 1\n",
    "            print('Failed Id {0}: {1}'.format(failed_id_count, str(tweet_id)))\n",
    "            continue\n",
    "\n",
    "end_time = timer()\n",
    "print('Execution time: {0:.2f}s.'.format(end_time - start_time))"
   ]
  },
  {
   "cell_type": "code",
   "execution_count": 4,
   "metadata": {},
   "outputs": [
    {
     "name": "stdout",
     "output_type": "stream",
     "text": [
      "File red successfully!\n"
     ]
    }
   ],
   "source": [
    "# Read data from the text file line by line and,\n",
    "# Create a dataframe using this data\n",
    "tweet_data = {'tweet_id': [], 'retweet_count': [], 'favorite_count': [], 'retweet': []}\n",
    "try:\n",
    "    with open('data/tweet-json.txt', 'r') as file:\n",
    "        for line in file:\n",
    "            tweet = json.loads(line)\n",
    "            tweet_data['tweet_id'].append(tweet['id_str'])\n",
    "            tweet_data['retweet_count'].append(tweet['retweet_count'])\n",
    "            tweet_data['favorite_count'].append(tweet['favorite_count'])\n",
    "            try:\n",
    "                # The retweet text in its truncated form will be returned if\n",
    "                # the tweet is actually a retweet\n",
    "                retweet_checker = tweet['retweeted_status']\n",
    "                tweet_data['retweet'].append(True)\n",
    "            except KeyError:\n",
    "                # The tweet is not a retweet \n",
    "                tweet_data['retweet'].append(False)\n",
    "    \n",
    "    print('File red successfully!')\n",
    "    tweet_json = pd.DataFrame(tweet_data)\n",
    "except FileNotFoundError:\n",
    "    print('Failed to read from a file!')"
   ]
  },
  {
   "cell_type": "markdown",
   "metadata": {},
   "source": [
    "\n",
    "<a id='assessing_data'/></a>\n",
    "\n",
    "## Assessing Data\n",
    "\n",
    "The process of finding problems from the collected data involved the use of visual and programmatic techniques. The goal was to detect and document at least 8 quality and 2 tidiness issues. Quality issues found at this stage were grouped in to completeness, validity, accuracy, and consistency categories.\n",
    "\n",
    "### Quality Issues in the Twitter Archive\n",
    "\n",
    "- Invalid column datatypes.\n",
    "\n",
    "    - Id columns (such as tweet_id, and in_reply_to_status_id) were int and float instead of string.\n",
    "    \n",
    "    - Timestamp columns (such as timestamp and retweeted_status_timestamp) were string instead of datetime.\n",
    "\n",
    "- Inconsistent and inaccurate dog names.\n",
    "\n",
    "    - Some dog names (such as ‘a’, and ‘such’) were in lowercase, while others were in uppercase.\n",
    "    \n",
    "    - All lowercase names were inappropriate.\n",
    "\n",
    "    - Few names (such as O’Malley and Al Cabone) were represented by their beginning characters.\n",
    "\n",
    "- Inaccurate dog stages.\n",
    "\n",
    "    - Null dog stages were represented using the string None instead of Python’s None.\n",
    "    \n",
    "    - In some tweets, multiple stages were used to represent a single dog. \n",
    "\n",
    "- Inaccurate ratings.\n",
    "\n",
    "    - Notations (such as 24/7, 9/11, 7/11, 4/20 (April 20), and 11/15/15) in some tweets were wrongly considered as ratings,\n",
    "    \n",
    "    - Decimal rating (such as 9.75, 11.27, and 11.26) in some tweets were not correctly retrieved,\n",
    "\n",
    "    - Some rating-like notations (such as 3 1/2, and 50/50) were wrongly considered as ratings.\n"
   ]
  },
  {
   "cell_type": "code",
   "execution_count": 5,
   "metadata": {},
   "outputs": [
    {
     "name": "stdout",
     "output_type": "stream",
     "text": [
      "int64\n",
      "float64\n",
      "float64\n",
      "float64\n",
      "float64\n",
      "object\n",
      "object\n"
     ]
    }
   ],
   "source": [
    "# Using the Series.dtype to assess datatypes of columns.\n",
    "print(twitter_archive.tweet_id.dtype)\n",
    "print(twitter_archive.in_reply_to_status_id.dtype)\n",
    "print(twitter_archive.in_reply_to_user_id.dtype)\n",
    "print(twitter_archive.retweeted_status_id.dtype)\n",
    "print(twitter_archive.retweeted_status_user_id.dtype)\n",
    "print(twitter_archive.timestamp.dtype)\n",
    "print(twitter_archive.retweeted_status_timestamp.dtype)"
   ]
  },
  {
   "cell_type": "code",
   "execution_count": 7,
   "metadata": {},
   "outputs": [
    {
     "data": {
      "text/plain": [
       "array(['such', 'a', 'quite', 'not', 'one', 'incredibly', 'mad', 'an',\n",
       "       'very', 'just', 'my', 'his', 'actually', 'getting', 'this',\n",
       "       'unacceptable', 'all', 'old', 'infuriating', 'the', 'by',\n",
       "       'officially', 'life', 'light', 'space'], dtype=object)"
      ]
     },
     "metadata": {},
     "output_type": "display_data"
    }
   ],
   "source": [
    "# Get lowercase dog names, and extract unique ones.\n",
    "display(twitter_archive[twitter_archive.name.str.islower() == True\n",
    "                       ].name.unique())"
   ]
  },
  {
   "cell_type": "code",
   "execution_count": 9,
   "metadata": {},
   "outputs": [
    {
     "data": {
      "text/html": [
       "<div>\n",
       "<style scoped>\n",
       "    .dataframe tbody tr th:only-of-type {\n",
       "        vertical-align: middle;\n",
       "    }\n",
       "\n",
       "    .dataframe tbody tr th {\n",
       "        vertical-align: top;\n",
       "    }\n",
       "\n",
       "    .dataframe thead th {\n",
       "        text-align: right;\n",
       "    }\n",
       "</style>\n",
       "<table border=\"1\" class=\"dataframe\">\n",
       "  <thead>\n",
       "    <tr style=\"text-align: right;\">\n",
       "      <th></th>\n",
       "      <th>text</th>\n",
       "      <th>name</th>\n",
       "    </tr>\n",
       "  </thead>\n",
       "  <tbody>\n",
       "    <tr>\n",
       "      <th>775</th>\n",
       "      <td>This is O'Malley. That is how he sleeps. Doesn't care what you think about it. 10/10 comfy af https://t.co/Pq150LeRaC</td>\n",
       "      <td>O</td>\n",
       "    </tr>\n",
       "    <tr>\n",
       "      <th>820</th>\n",
       "      <td>Meet Al Cabone. He's a gangsta puppa. Rather h*ckin ruthless. Shows no mercy sometimes. 11/10 pet w extreme caution https://t.co/OUwWbEKOUV</td>\n",
       "      <td>Al</td>\n",
       "    </tr>\n",
       "  </tbody>\n",
       "</table>\n",
       "</div>"
      ],
      "text/plain": [
       "                                                                                                                                            text  \\\n",
       "775                        This is O'Malley. That is how he sleeps. Doesn't care what you think about it. 10/10 comfy af https://t.co/Pq150LeRaC   \n",
       "820  Meet Al Cabone. He's a gangsta puppa. Rather h*ckin ruthless. Shows no mercy sometimes. 11/10 pet w extreme caution https://t.co/OUwWbEKOUV   \n",
       "\n",
       "    name  \n",
       "775    O  \n",
       "820   Al  "
      ]
     },
     "metadata": {},
     "output_type": "display_data"
    }
   ],
   "source": [
    "# Get short dog names that are not in lowercase.\n",
    "short_names = twitter_archive[(twitter_archive.name.str.len() < 3) & \n",
    "                              (twitter_archive.name.str.islower() == False)\n",
    "                             ]['name'].unique()\n",
    "\n",
    "# From this list, names at 775 and 820 are inacurate.\n",
    "display(twitter_archive[twitter_archive.name.isin(short_names)]\n",
    "        [['text', 'name']].loc[np.r_[775, 820], :])"
   ]
  },
  {
   "cell_type": "code",
   "execution_count": 10,
   "metadata": {},
   "outputs": [
    {
     "data": {
      "text/plain": [
       "array(['None', 'doggo'], dtype=object)"
      ]
     },
     "metadata": {},
     "output_type": "display_data"
    },
    {
     "data": {
      "text/plain": [
       "array(['None', 'floofer'], dtype=object)"
      ]
     },
     "metadata": {},
     "output_type": "display_data"
    },
    {
     "data": {
      "text/plain": [
       "array(['None', 'pupper'], dtype=object)"
      ]
     },
     "metadata": {},
     "output_type": "display_data"
    },
    {
     "data": {
      "text/plain": [
       "array(['None', 'puppo'], dtype=object)"
      ]
     },
     "metadata": {},
     "output_type": "display_data"
    }
   ],
   "source": [
    "# Get unique values that represent dog stages.\n",
    "# Each represent null data as a string None.\n",
    "display(twitter_archive.doggo.unique())\n",
    "display(twitter_archive.floofer.unique())\n",
    "display(twitter_archive.pupper.unique())\n",
    "display(twitter_archive.puppo.unique())"
   ]
  },
  {
   "cell_type": "code",
   "execution_count": 11,
   "metadata": {},
   "outputs": [
    {
     "data": {
      "text/html": [
       "<div>\n",
       "<style scoped>\n",
       "    .dataframe tbody tr th:only-of-type {\n",
       "        vertical-align: middle;\n",
       "    }\n",
       "\n",
       "    .dataframe tbody tr th {\n",
       "        vertical-align: top;\n",
       "    }\n",
       "\n",
       "    .dataframe thead th {\n",
       "        text-align: right;\n",
       "    }\n",
       "</style>\n",
       "<table border=\"1\" class=\"dataframe\">\n",
       "  <thead>\n",
       "    <tr style=\"text-align: right;\">\n",
       "      <th></th>\n",
       "      <th>tweet_id</th>\n",
       "      <th>text</th>\n",
       "      <th>doggo</th>\n",
       "      <th>floofer</th>\n",
       "      <th>pupper</th>\n",
       "      <th>puppo</th>\n",
       "    </tr>\n",
       "  </thead>\n",
       "  <tbody>\n",
       "    <tr>\n",
       "      <th>191</th>\n",
       "      <td>855851453814013952</td>\n",
       "      <td>Here's a puppo participating in the #ScienceMarch. Cleverly disguising her own doggo agenda. 13/10 would keep the planet habitable for https://t.co/cMhq16isel</td>\n",
       "      <td>doggo</td>\n",
       "      <td>None</td>\n",
       "      <td>None</td>\n",
       "      <td>puppo</td>\n",
       "    </tr>\n",
       "    <tr>\n",
       "      <th>200</th>\n",
       "      <td>854010172552949760</td>\n",
       "      <td>At first I thought this was a shy doggo, but it's actually a Rare Canadian Floofer Owl. Amateurs would confuse the two. 11/10 only send dogs https://t.co/TXdT3tmuYk</td>\n",
       "      <td>doggo</td>\n",
       "      <td>floofer</td>\n",
       "      <td>None</td>\n",
       "      <td>None</td>\n",
       "    </tr>\n",
       "  </tbody>\n",
       "</table>\n",
       "</div>"
      ],
      "text/plain": [
       "               tweet_id  \\\n",
       "191  855851453814013952   \n",
       "200  854010172552949760   \n",
       "\n",
       "                                                                                                                                                                     text  \\\n",
       "191        Here's a puppo participating in the #ScienceMarch. Cleverly disguising her own doggo agenda. 13/10 would keep the planet habitable for https://t.co/cMhq16isel   \n",
       "200  At first I thought this was a shy doggo, but it's actually a Rare Canadian Floofer Owl. Amateurs would confuse the two. 11/10 only send dogs https://t.co/TXdT3tmuYk   \n",
       "\n",
       "     doggo  floofer pupper  puppo  \n",
       "191  doggo     None   None  puppo  \n",
       "200  doggo  floofer   None   None  "
      ]
     },
     "metadata": {},
     "output_type": "display_data"
    }
   ],
   "source": [
    "# Get dogs with multiple assigned stage\n",
    "multiple_dog_stage = ((((twitter_archive.doggo == 'doggo') & \n",
    "                        (twitter_archive.floofer == 'floofer')) | \n",
    "                      ((twitter_archive.pupper == 'pupper') & \n",
    "                       (twitter_archive.puppo == 'puppo'))) |\n",
    "                      (((twitter_archive.doggo == 'doggo') | \n",
    "                        (twitter_archive.floofer == 'floofer')) & \n",
    "                      ((twitter_archive.pupper == 'pupper') | \n",
    "                       (twitter_archive.puppo == 'puppo'))))\n",
    "\n",
    "display(twitter_archive[multiple_dog_stage][\n",
    "    ['tweet_id', 'text', 'doggo', 'floofer', 'pupper', 'puppo']].head(2))"
   ]
  },
  {
   "cell_type": "code",
   "execution_count": 16,
   "metadata": {},
   "outputs": [
    {
     "data": {
      "text/html": [
       "<div>\n",
       "<style scoped>\n",
       "    .dataframe tbody tr th:only-of-type {\n",
       "        vertical-align: middle;\n",
       "    }\n",
       "\n",
       "    .dataframe tbody tr th {\n",
       "        vertical-align: top;\n",
       "    }\n",
       "\n",
       "    .dataframe thead th {\n",
       "        text-align: right;\n",
       "    }\n",
       "</style>\n",
       "<table border=\"1\" class=\"dataframe\">\n",
       "  <thead>\n",
       "    <tr style=\"text-align: right;\">\n",
       "      <th></th>\n",
       "      <th>text</th>\n",
       "      <th>rating_numerator</th>\n",
       "      <th>rating_denominator</th>\n",
       "    </tr>\n",
       "  </thead>\n",
       "  <tbody>\n",
       "    <tr>\n",
       "      <th>516</th>\n",
       "      <td>Meet Sam. She smiles 24/7 &amp;amp; secretly aspires to be a reindeer. \\nKeep Sam smiling by clicking and sharing this link:\\nhttps://t.co/98tB8y7y7t https://t.co/LouL5vdvxx</td>\n",
       "      <td>24</td>\n",
       "      <td>7</td>\n",
       "    </tr>\n",
       "    <tr>\n",
       "      <th>2335</th>\n",
       "      <td>This is an Albanian 3 1/2 legged  Episcopalian. Loves well-polished hardwood flooring. Penis on the collar. 9/10 https://t.co/d9NcXFKwLv</td>\n",
       "      <td>1</td>\n",
       "      <td>2</td>\n",
       "    </tr>\n",
       "  </tbody>\n",
       "</table>\n",
       "</div>"
      ],
      "text/plain": [
       "                                                                                                                                                                           text  \\\n",
       "516   Meet Sam. She smiles 24/7 &amp; secretly aspires to be a reindeer. \\nKeep Sam smiling by clicking and sharing this link:\\nhttps://t.co/98tB8y7y7t https://t.co/LouL5vdvxx   \n",
       "2335                                   This is an Albanian 3 1/2 legged  Episcopalian. Loves well-polished hardwood flooring. Penis on the collar. 9/10 https://t.co/d9NcXFKwLv   \n",
       "\n",
       "      rating_numerator  rating_denominator  \n",
       "516                 24                   7  \n",
       "2335                 1                   2  "
      ]
     },
     "metadata": {},
     "output_type": "display_data"
    },
    {
     "data": {
      "text/html": [
       "<div>\n",
       "<style scoped>\n",
       "    .dataframe tbody tr th:only-of-type {\n",
       "        vertical-align: middle;\n",
       "    }\n",
       "\n",
       "    .dataframe tbody tr th {\n",
       "        vertical-align: top;\n",
       "    }\n",
       "\n",
       "    .dataframe thead th {\n",
       "        text-align: right;\n",
       "    }\n",
       "</style>\n",
       "<table border=\"1\" class=\"dataframe\">\n",
       "  <thead>\n",
       "    <tr style=\"text-align: right;\">\n",
       "      <th></th>\n",
       "      <th>text</th>\n",
       "      <th>rating_numerator</th>\n",
       "      <th>rating_denominator</th>\n",
       "    </tr>\n",
       "  </thead>\n",
       "  <tbody>\n",
       "    <tr>\n",
       "      <th>340</th>\n",
       "      <td>RT @dog_rates: This is Logan, the Chow who lived. He solemnly swears he's up to lots of good. H*ckin magical af 9.75/10 https://t.co/yBO5wu…</td>\n",
       "      <td>75</td>\n",
       "      <td>10</td>\n",
       "    </tr>\n",
       "    <tr>\n",
       "      <th>763</th>\n",
       "      <td>This is Sophie. She's a Jubilant Bush Pupper. Super h*ckin rare. Appears at random just to smile at the locals. 11.27/10 would smile back https://t.co/QFaUiIHxHq</td>\n",
       "      <td>27</td>\n",
       "      <td>10</td>\n",
       "    </tr>\n",
       "  </tbody>\n",
       "</table>\n",
       "</div>"
      ],
      "text/plain": [
       "                                                                                                                                                                  text  \\\n",
       "340                       RT @dog_rates: This is Logan, the Chow who lived. He solemnly swears he's up to lots of good. H*ckin magical af 9.75/10 https://t.co/yBO5wu…   \n",
       "763  This is Sophie. She's a Jubilant Bush Pupper. Super h*ckin rare. Appears at random just to smile at the locals. 11.27/10 would smile back https://t.co/QFaUiIHxHq   \n",
       "\n",
       "     rating_numerator  rating_denominator  \n",
       "340                75                  10  \n",
       "763                27                  10  "
      ]
     },
     "metadata": {},
     "output_type": "display_data"
    }
   ],
   "source": [
    "# Get tweets with rating denominator < 10 and numerator > 17.\n",
    "# Some of these rating_numerator/rating_denominator are inaccurate.\n",
    "display(twitter_archive[twitter_archive.rating_denominator < 10]\n",
    "        [['text', 'rating_numerator', 'rating_denominator']].tail(2))\n",
    "display(twitter_archive[twitter_archive.rating_numerator > 17]\n",
    "        [['text', 'rating_numerator', 'rating_denominator']]\n",
    "        .loc[np.r_[340, 763], :])"
   ]
  },
  {
   "cell_type": "markdown",
   "metadata": {},
   "source": [
    "\n",
    "### Quality Issues in the Json Data\n",
    "\n",
    "- 179 retweets, which are not useful, were extracted through the API.\n",
    "\n",
    "- Inconsistent tweet id datatypes.\n",
    "\n",
    "    - In tweet_json, tweet ids were represented as strings, but twitter_archive used int.\n",
    "\n",
    "- Incomplete records.\n",
    "\n",
    "    - Twitter archive had 2356 records, but tweet_json had 2354.\n"
   ]
  },
  {
   "cell_type": "code",
   "execution_count": 17,
   "metadata": {},
   "outputs": [
    {
     "data": {
      "text/plain": [
       "False    2175\n",
       "True      179\n",
       "Name: retweet, dtype: int64"
      ]
     },
     "metadata": {},
     "output_type": "display_data"
    },
    {
     "name": "stdout",
     "output_type": "stream",
     "text": [
      "<class 'pandas.core.frame.DataFrame'>\n",
      "RangeIndex: 2354 entries, 0 to 2353\n",
      "Data columns (total 4 columns):\n",
      "tweet_id          2354 non-null object\n",
      "retweet_count     2354 non-null int64\n",
      "favorite_count    2354 non-null int64\n",
      "retweet           2354 non-null bool\n",
      "dtypes: bool(1), int64(2), object(1)\n",
      "memory usage: 57.5+ KB\n",
      "\n",
      "Length of twitter_archive is 2356, but tweet_json contains 2354 records.\n"
     ]
    }
   ],
   "source": [
    "# Since only original tweets are usefull in our case,\n",
    "# 179 of the retweets need to removed.\n",
    "display(tweet_json.retweet.value_counts())\n",
    "\n",
    "# Display a concise summary of a DataFrame.\n",
    "# This summary shows that, tweet_id is represented using string\n",
    "tweet_json.info()\n",
    "\n",
    "# Display the difference in the number of observations.\n",
    "len_twitter_archive = len(twitter_archive.tweet_id.unique())\n",
    "len_tweet_json = len(tweet_json.tweet_id.unique())\n",
    "print('\\n'+\n",
    "      'Length of twitter_archive is {0}, but tweet_json contains {1} records.'.\n",
    "      format(len_twitter_archive, len_tweet_json))"
   ]
  },
  {
   "cell_type": "markdown",
   "metadata": {},
   "source": [
    "\n",
    "### Quality Issues in the Json Data\n",
    "\n",
    "- Inconsistent tweet id datatypes.\n",
    "\n",
    "    - In tweet_json, tweet ids were represented as strings, but image_predictions used int.\n",
    "\n",
    "- Incomplete records.\n",
    "\n",
    "    - Twitter archive had 2356 records, but image_predictions had 2075.\n"
   ]
  },
  {
   "cell_type": "code",
   "execution_count": 18,
   "metadata": {},
   "outputs": [
    {
     "name": "stdout",
     "output_type": "stream",
     "text": [
      "int64\n",
      "\n",
      "Length of twitter_archive is 2356, but image_predictions contains 2075 records.\n"
     ]
    }
   ],
   "source": [
    "# Display the datatype of tweet_id.\n",
    "print(image_predictions.tweet_id.dtype)\n",
    "\n",
    "# Display the difference in the number of observations.\n",
    "len_image_predictions = len(image_predictions.tweet_id.unique())\n",
    "print('\\nLength of twitter_archive is {0}, but image_predictions contains {1} records.'.\n",
    "      format(len_twitter_archive, len_image_predictions))"
   ]
  },
  {
   "cell_type": "markdown",
   "metadata": {},
   "source": [
    "\n",
    "### Tidiness Issues\n",
    "\n",
    "- Doggo, floofer, pupper, and puppo Variables could be converted to dog_stage variable.\n",
    "\n",
    "- Tweet json and image_predictions could be merged with the twitter_archive.\n"
   ]
  },
  {
   "cell_type": "code",
   "execution_count": 19,
   "metadata": {},
   "outputs": [
    {
     "data": {
      "text/html": [
       "<div>\n",
       "<style scoped>\n",
       "    .dataframe tbody tr th:only-of-type {\n",
       "        vertical-align: middle;\n",
       "    }\n",
       "\n",
       "    .dataframe tbody tr th {\n",
       "        vertical-align: top;\n",
       "    }\n",
       "\n",
       "    .dataframe thead th {\n",
       "        text-align: right;\n",
       "    }\n",
       "</style>\n",
       "<table border=\"1\" class=\"dataframe\">\n",
       "  <thead>\n",
       "    <tr style=\"text-align: right;\">\n",
       "      <th></th>\n",
       "      <th>tweet_id</th>\n",
       "      <th>doggo</th>\n",
       "      <th>floofer</th>\n",
       "      <th>pupper</th>\n",
       "      <th>puppo</th>\n",
       "    </tr>\n",
       "  </thead>\n",
       "  <tbody>\n",
       "    <tr>\n",
       "      <th>0</th>\n",
       "      <td>892420643555336193</td>\n",
       "      <td>None</td>\n",
       "      <td>None</td>\n",
       "      <td>None</td>\n",
       "      <td>None</td>\n",
       "    </tr>\n",
       "    <tr>\n",
       "      <th>1</th>\n",
       "      <td>892177421306343426</td>\n",
       "      <td>None</td>\n",
       "      <td>None</td>\n",
       "      <td>None</td>\n",
       "      <td>None</td>\n",
       "    </tr>\n",
       "  </tbody>\n",
       "</table>\n",
       "</div>"
      ],
      "text/plain": [
       "             tweet_id doggo floofer pupper puppo\n",
       "0  892420643555336193  None    None   None  None\n",
       "1  892177421306343426  None    None   None  None"
      ]
     },
     "metadata": {},
     "output_type": "display_data"
    },
    {
     "data": {
      "text/html": [
       "<div>\n",
       "<style scoped>\n",
       "    .dataframe tbody tr th:only-of-type {\n",
       "        vertical-align: middle;\n",
       "    }\n",
       "\n",
       "    .dataframe tbody tr th {\n",
       "        vertical-align: top;\n",
       "    }\n",
       "\n",
       "    .dataframe thead th {\n",
       "        text-align: right;\n",
       "    }\n",
       "</style>\n",
       "<table border=\"1\" class=\"dataframe\">\n",
       "  <thead>\n",
       "    <tr style=\"text-align: right;\">\n",
       "      <th></th>\n",
       "      <th>tweet_id</th>\n",
       "      <th>retweet_count</th>\n",
       "      <th>favorite_count</th>\n",
       "      <th>retweet</th>\n",
       "    </tr>\n",
       "  </thead>\n",
       "  <tbody>\n",
       "    <tr>\n",
       "      <th>0</th>\n",
       "      <td>892420643555336193</td>\n",
       "      <td>8853</td>\n",
       "      <td>39467</td>\n",
       "      <td>False</td>\n",
       "    </tr>\n",
       "    <tr>\n",
       "      <th>1</th>\n",
       "      <td>892177421306343426</td>\n",
       "      <td>6514</td>\n",
       "      <td>33819</td>\n",
       "      <td>False</td>\n",
       "    </tr>\n",
       "  </tbody>\n",
       "</table>\n",
       "</div>"
      ],
      "text/plain": [
       "             tweet_id  retweet_count  favorite_count  retweet\n",
       "0  892420643555336193           8853           39467    False\n",
       "1  892177421306343426           6514           33819    False"
      ]
     },
     "metadata": {},
     "output_type": "display_data"
    },
    {
     "data": {
      "text/html": [
       "<div>\n",
       "<style scoped>\n",
       "    .dataframe tbody tr th:only-of-type {\n",
       "        vertical-align: middle;\n",
       "    }\n",
       "\n",
       "    .dataframe tbody tr th {\n",
       "        vertical-align: top;\n",
       "    }\n",
       "\n",
       "    .dataframe thead th {\n",
       "        text-align: right;\n",
       "    }\n",
       "</style>\n",
       "<table border=\"1\" class=\"dataframe\">\n",
       "  <thead>\n",
       "    <tr style=\"text-align: right;\">\n",
       "      <th></th>\n",
       "      <th>tweet_id</th>\n",
       "      <th>p1</th>\n",
       "      <th>p1_conf</th>\n",
       "      <th>p1_dog</th>\n",
       "      <th>p2</th>\n",
       "      <th>p2_conf</th>\n",
       "      <th>p2_dog</th>\n",
       "      <th>p3</th>\n",
       "      <th>p3_conf</th>\n",
       "      <th>p3_dog</th>\n",
       "    </tr>\n",
       "  </thead>\n",
       "  <tbody>\n",
       "    <tr>\n",
       "      <th>0</th>\n",
       "      <td>666020888022790149</td>\n",
       "      <td>Welsh_springer_spaniel</td>\n",
       "      <td>0.465074</td>\n",
       "      <td>True</td>\n",
       "      <td>collie</td>\n",
       "      <td>0.156665</td>\n",
       "      <td>True</td>\n",
       "      <td>Shetland_sheepdog</td>\n",
       "      <td>0.061428</td>\n",
       "      <td>True</td>\n",
       "    </tr>\n",
       "    <tr>\n",
       "      <th>1</th>\n",
       "      <td>666029285002620928</td>\n",
       "      <td>redbone</td>\n",
       "      <td>0.506826</td>\n",
       "      <td>True</td>\n",
       "      <td>miniature_pinscher</td>\n",
       "      <td>0.074192</td>\n",
       "      <td>True</td>\n",
       "      <td>Rhodesian_ridgeback</td>\n",
       "      <td>0.072010</td>\n",
       "      <td>True</td>\n",
       "    </tr>\n",
       "  </tbody>\n",
       "</table>\n",
       "</div>"
      ],
      "text/plain": [
       "             tweet_id                      p1   p1_conf  p1_dog  \\\n",
       "0  666020888022790149  Welsh_springer_spaniel  0.465074    True   \n",
       "1  666029285002620928                 redbone  0.506826    True   \n",
       "\n",
       "                   p2   p2_conf  p2_dog                   p3   p3_conf  p3_dog  \n",
       "0              collie  0.156665    True    Shetland_sheepdog  0.061428    True  \n",
       "1  miniature_pinscher  0.074192    True  Rhodesian_ridgeback  0.072010    True  "
      ]
     },
     "metadata": {},
     "output_type": "display_data"
    }
   ],
   "source": [
    "# doggo, floofer, pupper, and puppo variables can be simplified to dog stage.\n",
    "display(twitter_archive[['tweet_id', 'doggo', 'floofer', 'pupper', 'puppo'\n",
    "                        ]].head(2))\n",
    "\n",
    "# retweet_count and favorite_count variables can be added to twitter_archive.\n",
    "display(tweet_json.head(2))\n",
    "\n",
    "# [p1, p2, p3] variables can be simplified to prediction, \n",
    "# [p1_conf, p2_conf, p3_conf] variables can be simplified to confidence, \n",
    "# [p1_dog, p2_dog, p3_dog] variables can be simplified to is_dog.\n",
    "display(image_predictions[['tweet_id', 'p1', 'p1_conf', 'p1_dog', \n",
    "                           'p2', 'p2_conf', 'p2_dog', 'p3', 'p3_conf', 'p3_dog'\n",
    "                          ]].head(2))"
   ]
  },
  {
   "cell_type": "markdown",
   "metadata": {},
   "source": [
    "\n",
    "<a id='cleaning_data'></a>\n",
    "\n",
    "## Cleaning Data\n",
    "\n",
    "Fixing problems, which had been seen during the assessment stage, was started by making copies of the data. Then, each of the listed subsequent steps followed.\n",
    "\n",
    "- Defining the plan for addressing the issues,\n",
    "\n",
    "- Coding to fix the issues,\n",
    "\n",
    "- Testing if the issues ware addressed properly, and\n",
    "\n",
    "- Documenting the effort.\n"
   ]
  },
  {
   "cell_type": "code",
   "execution_count": 20,
   "metadata": {},
   "outputs": [],
   "source": [
    "# Make a copy of the data\n",
    "twitter_archive_copy = twitter_archive.copy()\n",
    "tweet_json_copy = tweet_json.copy()\n",
    "image_predictions_copy = image_predictions.copy()"
   ]
  },
  {
   "cell_type": "markdown",
   "metadata": {},
   "source": [
    "\n",
    "### Quality Issues in the Twitter Archive\n",
    "\n",
    "#### Define\n",
    "\n",
    "- Apply `DataFrame.astype()` function on each of Id. variables to convert them to _string_.\n",
    "\n",
    "- Apply `Pandas.to_datetime()` function on each of Timestamp variables.\n",
    "\n",
    "#### Code\n"
   ]
  },
  {
   "cell_type": "code",
   "execution_count": 21,
   "metadata": {},
   "outputs": [],
   "source": [
    "# Simple casting to int would not handle the nan,\n",
    "# So use pandas INT64 datatype\n",
    "twitter_archive = twitter_archive.astype({\n",
    "    'tweet_id': str,\n",
    "    'in_reply_to_status_id': str, \n",
    "    'in_reply_to_user_id': str,\n",
    "    'retweeted_status_id': str,\n",
    "    'retweeted_status_user_id': str})\n",
    "\n",
    "# Convert timestamps into datetime\n",
    "twitter_archive.timestamp = pd.to_datetime(twitter_archive.timestamp)\n",
    "twitter_archive.retweeted_status_timestamp = pd.to_datetime(\n",
    "    twitter_archive.retweeted_status_timestamp)"
   ]
  },
  {
   "cell_type": "markdown",
   "metadata": {},
   "source": [
    "\n",
    "#### Test\n"
   ]
  },
  {
   "cell_type": "code",
   "execution_count": 22,
   "metadata": {},
   "outputs": [
    {
     "name": "stdout",
     "output_type": "stream",
     "text": [
      "object\n",
      "object\n",
      "object\n",
      "object\n",
      "object\n",
      "datetime64[ns, UTC]\n",
      "datetime64[ns, UTC]\n"
     ]
    }
   ],
   "source": [
    "# Datatype of id columns should be int64,\n",
    "# Datatype of timestamp columns should be datetime64,\n",
    "print(twitter_archive.tweet_id.dtype)\n",
    "print(twitter_archive.in_reply_to_status_id.dtype)\n",
    "print(twitter_archive.in_reply_to_user_id.dtype)\n",
    "print(twitter_archive.retweeted_status_id.dtype)\n",
    "print(twitter_archive.retweeted_status_user_id.dtype)\n",
    "print(twitter_archive.timestamp.dtype)\n",
    "print(twitter_archive.retweeted_status_timestamp.dtype)"
   ]
  },
  {
   "cell_type": "markdown",
   "metadata": {},
   "source": [
    "\n",
    "#### Define\n",
    "\n",
    "- Get lowercase names using `Series.str.islower()` and set to `None`.\n",
    "\n",
    "- Assign O'Malley and Al Cabone to name at indices 775 and 820.\n",
    "\n",
    "#### Code\n"
   ]
  },
  {
   "cell_type": "code",
   "execution_count": 23,
   "metadata": {},
   "outputs": [],
   "source": [
    "# Remove lowercase names\n",
    "mask = (twitter_archive.name.str.islower() == True)\n",
    "twitter_archive.loc[mask, 'name'] = None\n",
    "\n",
    "# Fix misspelled names\n",
    "twitter_archive.iloc[np.r_[775, 820], 12] = \"O\\'Malley\", \"Al Cabone\""
   ]
  },
  {
   "cell_type": "markdown",
   "metadata": {},
   "source": [
    "\n",
    "#### Test\n"
   ]
  },
  {
   "cell_type": "code",
   "execution_count": 24,
   "metadata": {},
   "outputs": [
    {
     "name": "stdout",
     "output_type": "stream",
     "text": [
      "0\n"
     ]
    },
    {
     "data": {
      "text/plain": [
       "775     O'Malley\n",
       "820    Al Cabone\n",
       "Name: name, dtype: object"
      ]
     },
     "execution_count": 24,
     "metadata": {},
     "output_type": "execute_result"
    }
   ],
   "source": [
    "# Number of rows with lowercase name should be 0\n",
    "print(len(twitter_archive[twitter_archive.name.str.islower() == True]))\n",
    "\n",
    "# Names at the specified indices should be O'Malley and Al Cabone\n",
    "twitter_archive.iloc[np.r_[775, 820], 12]"
   ]
  },
  {
   "cell_type": "markdown",
   "metadata": {},
   "source": [
    "\n",
    "#### Define\n",
    "\n",
    "- Get rows where values of `doggo`, `floofer`, `pupper`, or `puppo` were 'None'; then set them to None.\n",
    "\n",
    "- Get rows with indices 191, 200, 460, 575, and 705; then set the _invalid_ stages to None.\n",
    "\n",
    "- Get rows with indices 531, 565, 733, 778, 822, 889, 956, 1063, and 1113; then set _doggo_ to *multiple_stages* and set _pupper_ to None.\n",
    "\n",
    "#### Code\n"
   ]
  },
  {
   "cell_type": "code",
   "execution_count": 25,
   "metadata": {},
   "outputs": [],
   "source": [
    "# Fix empty dog stages represented as a string None\n",
    "twitter_archive.loc[twitter_archive.doggo == 'None', 'doggo'] = None\n",
    "twitter_archive.loc[twitter_archive.floofer == 'None', 'floofer'] = None\n",
    "twitter_archive.loc[twitter_archive.pupper == 'None', 'pupper'] = None\n",
    "twitter_archive.loc[twitter_archive.puppo == 'None', 'puppo'] = None\n",
    "\n",
    "# Fix multiple stages given for a single dog\n",
    "# by setting the incorrect ones to None\n",
    "twitter_archive.iloc[191, -4] = None\n",
    "twitter_archive.iloc[200, -4] = None\n",
    "twitter_archive.iloc[460, -2] = None\n",
    "twitter_archive.iloc[575, -4] = None\n",
    "twitter_archive.iloc[705, -2] = None\n",
    "\n",
    "# For tweets mentioning multiple dogs, \n",
    "# the doggo stage was set to multiple_stages. \n",
    "# But, all other stages were set to None.\n",
    "twitter_archive.iloc[np.r_[531, 565, 733, 778, 822, 889, 956, 1063, 1113], \n",
    "                     np.r_[-4, -2]] = 'multiple_stages', None"
   ]
  },
  {
   "cell_type": "markdown",
   "metadata": {},
   "source": [
    "\n",
    "#### Test\n"
   ]
  },
  {
   "cell_type": "code",
   "execution_count": 26,
   "metadata": {},
   "outputs": [
    {
     "name": "stdout",
     "output_type": "stream",
     "text": [
      "<class 'pandas.core.frame.DataFrame'>\n",
      "RangeIndex: 2356 entries, 0 to 2355\n",
      "Data columns (total 4 columns):\n",
      "doggo      94 non-null object\n",
      "floofer    10 non-null object\n",
      "pupper     246 non-null object\n",
      "puppo      30 non-null object\n",
      "dtypes: object(4)\n",
      "memory usage: 73.7+ KB\n",
      "\n",
      "      doggo  pupper\n",
      "191   None    None\n",
      "200   None    None\n",
      "460  doggo    None\n",
      "575   None  pupper\n",
      "705  doggo    None\n"
     ]
    }
   ],
   "source": [
    "# The number of non-null values in the last 4 columns\n",
    "# should be less than 2356. This is because the string None\n",
    "# is now converted to NULL.\n",
    "twitter_archive.iloc[:, -4:].info()\n",
    "\n",
    "# Value of doggo for the first two rows, \n",
    "# and also the forth row should be None.\n",
    "# Value of pupper for the third and last rows should be None\n",
    "print('\\n', twitter_archive.iloc[np.r_[191, 200, 460, 575, 705],\n",
    "                                 np.r_[-4, -2]])"
   ]
  },
  {
   "cell_type": "markdown",
   "metadata": {},
   "source": [
    "\n",
    "#### Define\n",
    "\n",
    "- Extract *rating_numerator* and *rating_denominator* from the *text* variable using **regular expression** in combinations with `Series.str.extractall()`.\n",
    "\n",
    "- If a text contains multiple ratings, then consider the first as the correct value; then replace it with the appropriate vaues latter if needed.\n",
    "\n",
    "- Fix inappropriate values using thier indices by setting them to None.\n",
    "\n",
    "#### Code\n"
   ]
  },
  {
   "cell_type": "code",
   "execution_count": 27,
   "metadata": {},
   "outputs": [],
   "source": [
    "# Fix issues associated with rating numerator and denominator\n",
    "\n",
    "# Get all the possible ratings from a text using regual expressions\n",
    "idx = pd.IndexSlice\n",
    "all_numerators_vs_denominators = twitter_archive.text.str.extractall(\n",
    "    r'(?P<rating_numerator>\\d+(?:\\.\\d+)?)\\/(?P<rating_denominator>\\d+)')\n",
    "\n",
    "# Assume all ratings that appeared first as correct ratings\n",
    "first_rating = all_numerators_vs_denominators.loc[idx[:, 0], :]\n",
    "\n",
    "# Get ratings that appeared second, these are the actual correct ratings, \n",
    "correct_ratings = all_numerators_vs_denominators.loc[idx[\n",
    "    np.r_[313, 784, 1068, 1165, 1202, 2335], 1], :]\n",
    "\n",
    "# Drop the added multi-level index\n",
    "correct_ratings = correct_ratings.reset_index(level=1, drop=True)\n",
    "first_rating = first_rating.reset_index(level=1, drop=True)\n",
    "\n",
    "# Replace values that were assumed to be correct, but are not, \n",
    "# with the actual correct values\n",
    "first_rating.iloc[correct_ratings.index, :] = correct_ratings\n",
    "\n",
    "# Replace previous columns with the new ones\n",
    "twitter_archive.iloc[:, np.r_[10, 11]] = first_rating\n",
    "\n",
    "# Set incorrect values to null\n",
    "twitter_archive.iloc[np.r_[342, 516], np.r_[10, 11]] = np.nan, np.nan\n",
    "\n",
    "# Cast rating numerator and denominator to float\n",
    "twitter_archive = twitter_archive.astype({\n",
    "    'rating_numerator': float, \n",
    "    'rating_denominator': float})"
   ]
  },
  {
   "cell_type": "markdown",
   "metadata": {},
   "source": [
    "\n",
    "#### Test\n"
   ]
  },
  {
   "cell_type": "code",
   "execution_count": 28,
   "metadata": {},
   "outputs": [
    {
     "data": {
      "text/html": [
       "<div>\n",
       "<style scoped>\n",
       "    .dataframe tbody tr th:only-of-type {\n",
       "        vertical-align: middle;\n",
       "    }\n",
       "\n",
       "    .dataframe tbody tr th {\n",
       "        vertical-align: top;\n",
       "    }\n",
       "\n",
       "    .dataframe thead th {\n",
       "        text-align: right;\n",
       "    }\n",
       "</style>\n",
       "<table border=\"1\" class=\"dataframe\">\n",
       "  <thead>\n",
       "    <tr style=\"text-align: right;\">\n",
       "      <th></th>\n",
       "      <th>rating_numerator</th>\n",
       "      <th>rating_denominator</th>\n",
       "    </tr>\n",
       "  </thead>\n",
       "  <tbody>\n",
       "    <tr>\n",
       "      <th>313</th>\n",
       "      <td>13.00</td>\n",
       "      <td>10.0</td>\n",
       "    </tr>\n",
       "    <tr>\n",
       "      <th>1165</th>\n",
       "      <td>13.00</td>\n",
       "      <td>10.0</td>\n",
       "    </tr>\n",
       "    <tr>\n",
       "      <th>2335</th>\n",
       "      <td>9.00</td>\n",
       "      <td>10.0</td>\n",
       "    </tr>\n",
       "    <tr>\n",
       "      <th>784</th>\n",
       "      <td>14.00</td>\n",
       "      <td>10.0</td>\n",
       "    </tr>\n",
       "    <tr>\n",
       "      <th>1068</th>\n",
       "      <td>14.00</td>\n",
       "      <td>10.0</td>\n",
       "    </tr>\n",
       "    <tr>\n",
       "      <th>1202</th>\n",
       "      <td>11.00</td>\n",
       "      <td>10.0</td>\n",
       "    </tr>\n",
       "    <tr>\n",
       "      <th>340</th>\n",
       "      <td>9.75</td>\n",
       "      <td>10.0</td>\n",
       "    </tr>\n",
       "    <tr>\n",
       "      <th>695</th>\n",
       "      <td>9.75</td>\n",
       "      <td>10.0</td>\n",
       "    </tr>\n",
       "    <tr>\n",
       "      <th>1662</th>\n",
       "      <td>7.00</td>\n",
       "      <td>11.0</td>\n",
       "    </tr>\n",
       "    <tr>\n",
       "      <th>763</th>\n",
       "      <td>11.27</td>\n",
       "      <td>10.0</td>\n",
       "    </tr>\n",
       "    <tr>\n",
       "      <th>1712</th>\n",
       "      <td>11.26</td>\n",
       "      <td>10.0</td>\n",
       "    </tr>\n",
       "  </tbody>\n",
       "</table>\n",
       "</div>"
      ],
      "text/plain": [
       "      rating_numerator  rating_denominator\n",
       "313              13.00                10.0\n",
       "1165             13.00                10.0\n",
       "2335              9.00                10.0\n",
       "784              14.00                10.0\n",
       "1068             14.00                10.0\n",
       "1202             11.00                10.0\n",
       "340               9.75                10.0\n",
       "695               9.75                10.0\n",
       "1662              7.00                11.0\n",
       "763              11.27                10.0\n",
       "1712             11.26                10.0"
      ]
     },
     "metadata": {},
     "output_type": "display_data"
    },
    {
     "data": {
      "text/html": [
       "<div>\n",
       "<style scoped>\n",
       "    .dataframe tbody tr th:only-of-type {\n",
       "        vertical-align: middle;\n",
       "    }\n",
       "\n",
       "    .dataframe tbody tr th {\n",
       "        vertical-align: top;\n",
       "    }\n",
       "\n",
       "    .dataframe thead th {\n",
       "        text-align: right;\n",
       "    }\n",
       "</style>\n",
       "<table border=\"1\" class=\"dataframe\">\n",
       "  <thead>\n",
       "    <tr style=\"text-align: right;\">\n",
       "      <th></th>\n",
       "      <th>rating_numerator</th>\n",
       "      <th>rating_denominator</th>\n",
       "    </tr>\n",
       "  </thead>\n",
       "  <tbody>\n",
       "    <tr>\n",
       "      <th>342</th>\n",
       "      <td>NaN</td>\n",
       "      <td>NaN</td>\n",
       "    </tr>\n",
       "    <tr>\n",
       "      <th>516</th>\n",
       "      <td>NaN</td>\n",
       "      <td>NaN</td>\n",
       "    </tr>\n",
       "  </tbody>\n",
       "</table>\n",
       "</div>"
      ],
      "text/plain": [
       "     rating_numerator  rating_denominator\n",
       "342               NaN                 NaN\n",
       "516               NaN                 NaN"
      ]
     },
     "metadata": {},
     "output_type": "display_data"
    }
   ],
   "source": [
    "# If correct, these values should have correct values.\n",
    "# Records at 342, 516 should have null values.\n",
    "display(twitter_archive.iloc[np.r_[313, 1165, 2335, 784, 1068, 1202, \n",
    "                           340, 695, 1662, 763, 1712], np.r_[10, 11]])\n",
    "\n",
    "display(twitter_archive.iloc[np.r_[342, 516], np.r_[10, 11]])"
   ]
  },
  {
   "cell_type": "markdown",
   "metadata": {},
   "source": [
    "\n",
    "#### Define\n",
    "\n",
    "- Drop rows with null *rating_numerator* or *rating_denominator*, by selecting only non-null values.\n",
    "\n",
    "#### Code\n"
   ]
  },
  {
   "cell_type": "code",
   "execution_count": 29,
   "metadata": {},
   "outputs": [],
   "source": [
    "# Drop rows with NAN rating\n",
    "twitter_archive = twitter_archive[twitter_archive.rating_numerator.notna() & \n",
    "                                  twitter_archive.rating_denominator.notna()]"
   ]
  },
  {
   "cell_type": "markdown",
   "metadata": {},
   "source": [
    "\n",
    "#### Test\n"
   ]
  },
  {
   "cell_type": "code",
   "execution_count": 30,
   "metadata": {},
   "outputs": [
    {
     "data": {
      "text/plain": [
       "0"
      ]
     },
     "execution_count": 30,
     "metadata": {},
     "output_type": "execute_result"
    }
   ],
   "source": [
    "# The result should be 0\n",
    "len(twitter_archive[twitter_archive.rating_numerator.isna() | \n",
    "                    twitter_archive.rating_denominator.isna()])"
   ]
  },
  {
   "cell_type": "markdown",
   "metadata": {},
   "source": [
    "\n",
    "### Tidiness Issues\n",
    "\n",
    "Before solving the quality issues in _tweet json_ and _image predictions_, lets focus on solving the **structural** issue of *twitter_archive*.\n",
    "\n",
    "#### Define\n",
    "\n",
    "- Convert *doggo*, *floofer*, *pupper*, and *puppo* into *dog_stage* using `DataFrame.melt()`.\n",
    "\n",
    "- Since `DataFrame.melt()` creates multiple copies of each single row, drop duplicates by selecting non-duplicated records.\n",
    "\n",
    "#### Code\n"
   ]
  },
  {
   "cell_type": "code",
   "execution_count": 31,
   "metadata": {
    "scrolled": false
   },
   "outputs": [],
   "source": [
    "# Make a copy of the twitter_archive data\n",
    "test_twitter_archive = twitter_archive.copy()\n",
    "\n",
    "# Melt the last 4 columns\n",
    "twitter_archive = twitter_archive.melt(id_vars=twitter_archive.columns[:-4], \n",
    "                                       value_name='dog_stage')\n",
    "\n",
    "# Drop the default variable created by the operation\n",
    "twitter_archive.drop(columns='variable', inplace=True)\n",
    "\n",
    "# Get records having a value for dog_stage\n",
    "# These records have no duplication within them\n",
    "dog_stage_data = twitter_archive[(twitter_archive.dog_stage.isna() == False)]\n",
    "\n",
    "# Get records with a None value for dog_stage, and\n",
    "# Having a different tweet_id than those in dog_stage_data\n",
    "dog_stage_None_data = twitter_archive[(\n",
    "    twitter_archive.dog_stage.isna() == True) & \n",
    "    (twitter_archive.tweet_id.isin(dog_stage_data.tweet_id) == False)]\n",
    "\n",
    "# Drop any duplication from dog_stage_None_data\n",
    "dog_stage_None_data = dog_stage_None_data[\n",
    "    dog_stage_None_data.tweet_id.duplicated() == False]\n",
    "\n",
    "# Concatenate dog_stage_None_data and dog_stage_data\n",
    "twitter_archive = dog_stage_None_data.append(dog_stage_data)"
   ]
  },
  {
   "cell_type": "markdown",
   "metadata": {},
   "source": [
    "\n",
    "#### Test\n"
   ]
  },
  {
   "cell_type": "code",
   "execution_count": 32,
   "metadata": {},
   "outputs": [
    {
     "data": {
      "text/plain": [
       "doggo       94\n",
       "floofer     10\n",
       "pupper     246\n",
       "puppo       30\n",
       "dtype: int64"
      ]
     },
     "metadata": {},
     "output_type": "display_data"
    },
    {
     "data": {
      "text/plain": [
       "pupper             246\n",
       "doggo               85\n",
       "puppo               30\n",
       "floofer             10\n",
       "multiple_stages      9\n",
       "Name: dog_stage, dtype: int64"
      ]
     },
     "metadata": {},
     "output_type": "display_data"
    }
   ],
   "source": [
    "# If correct, sum of non-null values in the last 4 columns \n",
    "# of test_twitter_archive will be 9 records less than the non-null values\n",
    "# in dog_stage column of twitter_archive\n",
    "display(test_twitter_archive.iloc[:, -4:].count())\n",
    "display(twitter_archive.dog_stage.value_counts())"
   ]
  },
  {
   "cell_type": "markdown",
   "metadata": {},
   "source": [
    "\n",
    "### Quality Issues in the Json Data\n",
    "\n",
    "#### Define\n",
    "\n",
    "- Drop retweets by selecting only tweets.\n",
    "\n",
    "#### Code\n"
   ]
  },
  {
   "cell_type": "code",
   "execution_count": 33,
   "metadata": {},
   "outputs": [],
   "source": [
    "# Drop retweets\n",
    "tweet_json = tweet_json[tweet_json.retweet == False]"
   ]
  },
  {
   "cell_type": "markdown",
   "metadata": {},
   "source": [
    "\n",
    "#### Test\n"
   ]
  },
  {
   "cell_type": "code",
   "execution_count": 34,
   "metadata": {},
   "outputs": [
    {
     "name": "stdout",
     "output_type": "stream",
     "text": [
      "0\n"
     ]
    }
   ],
   "source": [
    "# If correct, 0 and int64 should be displayed.\n",
    "print((tweet_json.retweet == True).sum())"
   ]
  },
  {
   "cell_type": "markdown",
   "metadata": {},
   "source": [
    "\n",
    "### Quality Issues in the Image Predictions\n",
    "\n",
    "#### Define\n",
    "\n",
    "- Convert datatype of *tweet_id* variable from _int_ to _string_ using `Series.astype()` function.\n",
    "\n",
    "#### Code\n"
   ]
  },
  {
   "cell_type": "code",
   "execution_count": 35,
   "metadata": {},
   "outputs": [],
   "source": [
    "# Convert tweet_id from int to string\n",
    "image_predictions.tweet_id = image_predictions.tweet_id.astype(str)"
   ]
  },
  {
   "cell_type": "markdown",
   "metadata": {},
   "source": [
    "\n",
    "#### Test\n"
   ]
  },
  {
   "cell_type": "code",
   "execution_count": 36,
   "metadata": {},
   "outputs": [
    {
     "name": "stdout",
     "output_type": "stream",
     "text": [
      "object\n"
     ]
    }
   ],
   "source": [
    "# Print datatype of tweet_id variable in image_predictions\n",
    "print(image_predictions.tweet_id.dtype)"
   ]
  },
  {
   "cell_type": "markdown",
   "metadata": {},
   "source": [
    "\n",
    "### Tidiness Issues in the Json Data and Image Predictions\n",
    "\n",
    "#### Define\n",
    "\n",
    "- Merge *twitter_archive* and *tweet_json* into *twitter_archive_master* using `Pandas.merge()` function.\n",
    "\n",
    "- Merge *twitter_archive_master* and *image_predictions* using `Pandas.merge()` function.\n",
    "\n",
    "#### Code\n"
   ]
  },
  {
   "cell_type": "code",
   "execution_count": 37,
   "metadata": {},
   "outputs": [],
   "source": [
    "# Merge tweet_json with twitter_archive, and\n",
    "# Remove unneccessary columns from both tables\n",
    "twitter_archive_master = pd.merge(left=\n",
    "                                  twitter_archive.iloc[:, np.r_[0, 3:6, 9:14]], \n",
    "                                  right=tweet_json.iloc[:,:-1], on='tweet_id', \n",
    "                                  how='inner')\n",
    "\n",
    "# Merge image_predictions with twitter_archive, and\n",
    "# Remove unneccessary columns from both tables\n",
    "twitter_archive_master = pd.merge(left=\n",
    "                                  twitter_archive_master, \n",
    "                                  right=image_predictions, on='tweet_id', \n",
    "                                  how='inner')"
   ]
  },
  {
   "cell_type": "markdown",
   "metadata": {},
   "source": [
    "\n",
    "#### Test\n"
   ]
  },
  {
   "cell_type": "code",
   "execution_count": 38,
   "metadata": {},
   "outputs": [
    {
     "name": "stdout",
     "output_type": "stream",
     "text": [
      "['tweet_id', 'timestamp', 'source', 'text', 'expanded_urls', 'rating_numerator', 'rating_denominator', 'name', 'dog_stage', 'retweet_count', 'favorite_count', 'jpg_url', 'img_num', 'p1', 'p1_conf', 'p1_dog', 'p2', 'p2_conf', 'p2_dog', 'p3', 'p3_conf', 'p3_dog']\n"
     ]
    }
   ],
   "source": [
    "# If correct, retweet_count and favorite_count should be the last columns.\n",
    "print(twitter_archive_master.columns.to_list())"
   ]
  },
  {
   "cell_type": "markdown",
   "metadata": {},
   "source": [
    "\n",
    "<a id='storing_data'></a>\n",
    "\n",
    "## Storing Data\n",
    "\n",
    "The cleaned dataset was intended to be used for performing analysis and visualizations. This requires storing it permanently either in a file or database. In this project, the clean master dataset was written to a CSV file.\n"
   ]
  },
  {
   "cell_type": "code",
   "execution_count": 39,
   "metadata": {},
   "outputs": [],
   "source": [
    "# Create a clean master dataset\n",
    "twitter_archive_master.to_csv('data/twitter_archive_master.csv', index=False)"
   ]
  },
  {
   "cell_type": "markdown",
   "metadata": {},
   "source": [
    "\n",
    "<a id='analysis'></a>\n",
    "    \n",
    "# Analysis\n",
    "\n",
    "The cleaned dataset contains 1993 tweets between November 15, 2015 and August 1, 2017. Each record of a tweet contains rating, and breed of the dog in the tweet image. Additionally, information such as retweet and favorite counts also exist. These are highlighted in this [figure](#sample_tweet_by_WeRateDogs).\n",
    "\n",
    "In this project, three research questions were raised. Each of these questions are explained along with the analysis results found.\n",
    "\n",
    "<a id='research_question_1'></a>\n",
    "\n",
    "## Are the Ratings on WeRateDogs More Positive, Negative, or Average?\n",
    "\n",
    "From the collected tweets, it was observed that most of the ratings were between 7/10 and 14/10. What is interesting is that, the average rating is above 10. \n"
   ]
  },
  {
   "cell_type": "code",
   "execution_count": 44,
   "metadata": {},
   "outputs": [
    {
     "name": "stdout",
     "output_type": "stream",
     "text": [
      "The master twitter_archive has 1993 records.\n"
     ]
    }
   ],
   "source": [
    "# Make a copy of the master dataframe\n",
    "twitter_archive_master_copy = twitter_archive_master.copy()\n",
    "\n",
    "# Print length of the master dataframe\n",
    "print('The master twitter_archive has {} records.'\n",
    "      .format(len(twitter_archive_master)))"
   ]
  },
  {
   "cell_type": "code",
   "execution_count": 46,
   "metadata": {},
   "outputs": [
    {
     "data": {
      "image/png": "[encoded data removed]",
      "text/plain": [
       "<Figure size 576x360 with 1 Axes>"
      ]
     },
     "metadata": {
      "needs_background": "light"
     },
     "output_type": "display_data"
    },
    {
     "name": "stdout",
     "output_type": "stream",
     "text": [
      "More than 1900 records have rating numerator below 250.\n"
     ]
    },
    {
     "data": {
      "image/png": "[encoded data removed]",
      "text/plain": [
       "<Figure size 576x360 with 1 Axes>"
      ]
     },
     "metadata": {
      "needs_background": "light"
     },
     "output_type": "display_data"
    },
    {
     "name": "stdout",
     "output_type": "stream",
     "text": [
      "Still, more than 1900 records has rating numerator below 25.\n"
     ]
    }
   ],
   "source": [
    "# Plot the distribution of rating numerator values\n",
    "twitter_archive_master.rating_numerator.plot(kind='hist',\n",
    "                                             label='Number of Tweets',\n",
    "                                             figsize=(8,5))\n",
    "\n",
    "plt.legend(fontsize=14)\n",
    "plt.title('Distribution of Rating Numerator', fontsize=14)\n",
    "plt.ylabel('Frequency', fontsize=14)\n",
    "plt.xlabel('Rating Numerator', fontsize=14)\n",
    "plt.show();\n",
    "print('More than 1900 records have rating numerator below 250.')\n",
    "\n",
    "# Plot the distribution of rating numberator values again.\n",
    "# This is because most records have numerator below 250.\n",
    "twitter_archive_master = twitter_archive_master[twitter_archive_master.\n",
    "                                                    rating_numerator < 250]\n",
    "twitter_archive_master.rating_numerator.plot(kind='hist',\n",
    "                                             label='Number of Tweets',\n",
    "                                             figsize=(8,5))\n",
    "\n",
    "plt.legend(fontsize=14)\n",
    "plt.title('Distribution of Rating Numerator', fontsize=14)\n",
    "plt.ylabel('Frequency', fontsize=14)\n",
    "plt.xlabel('Rating Numerator', fontsize=14)\n",
    "plt.show();\n",
    "print('Still, more than 1900 records has rating numerator below 25.')"
   ]
  },
  {
   "cell_type": "markdown",
   "metadata": {},
   "source": [
    "\n",
    "The following figure shows that there are exceptionally few records with a rating below 6.5. However; the lowest **common** rating for a dog seems to be 7. The figure also indicates that around 75% of the ratings are equal to or greater than 10. Furthermore; in most of the cases the rating denominators are 10. \n"
   ]
  },
  {
   "cell_type": "code",
   "execution_count": 48,
   "metadata": {},
   "outputs": [
    {
     "data": {
      "image/png": "[encoded data removed]",
      "text/plain": [
       "<Figure size 576x360 with 1 Axes>"
      ]
     },
     "metadata": {
      "needs_background": "light"
     },
     "output_type": "display_data"
    },
    {
     "name": "stdout",
     "output_type": "stream",
     "text": [
      "Rating numerator almost always has a value between 6.5 and 16.\n",
      "Rating denominator almost always has a value 10.\n"
     ]
    }
   ],
   "source": [
    "# Get records with rating numerators below 25\n",
    "twitter_archive_master = twitter_archive_master[\n",
    "    twitter_archive_master.rating_numerator < 25]\n",
    "\n",
    "# Get numerator and denominator variables only \n",
    "numerator_vs_denominator = twitter_archive_master[\n",
    "    ['rating_numerator', 'rating_denominator']]\n",
    "\n",
    "numerator_vs_denominator = numerator_vs_denominator.rename(\n",
    "    columns={'rating_numerator': 'Numerator', \n",
    "             'rating_denominator': 'Denominator'})\n",
    "\n",
    "# Plot the distribution of rating numerators below 25\n",
    "numerator_vs_denominator.plot(kind='box', figsize=(8, 5))\n",
    "plt.title('Distribution of Rating Scores', fontsize=14)\n",
    "plt.ylabel('Rating Score', fontsize=14)\n",
    "plt.xlabel('Rating Factors', fontsize=14)\n",
    "plt.yticks(fontsize=14)\n",
    "plt.xticks(fontsize=14)\n",
    "plt.savefig(fname='images/Distribution_of_rating_scores.png')\n",
    "plt.show();\n",
    "print('Rating numerator almost always has a value between 6.5 and 16.')\n",
    "print('Rating denominator almost always has a value 10.')"
   ]
  },
  {
   "cell_type": "markdown",
   "metadata": {},
   "source": [
    "\n",
    "The following figure shows that the most frequent ratings are between 10 and 13 (accumulated towards the right). In fact, around 84% of the ratings are above 10. This indicates that, ratings of WeRateDogs are more of positive.  \n"
   ]
  },
  {
   "cell_type": "code",
   "execution_count": 49,
   "metadata": {},
   "outputs": [
    {
     "data": {
      "image/png": "[encoded data removed]",
      "text/plain": [
       "<Figure size 576x360 with 1 Axes>"
      ]
     },
     "metadata": {
      "needs_background": "light"
     },
     "output_type": "display_data"
    },
    {
     "name": "stdout",
     "output_type": "stream",
     "text": [
      "Still, 1866 records has rating numerator between 6.5 and 16.\n",
      "The distribution seems left skewed. This indicates that their ratings are more positive.\n",
      "This is because, 83.98% of the ratings are above 10.\n"
     ]
    }
   ],
   "source": [
    "# Plot the distribution of rating numberator values between 6.5 and 16\n",
    "numerator_vs_denominator = numerator_vs_denominator[\n",
    "    (numerator_vs_denominator.Numerator < 16) & \n",
    "    (numerator_vs_denominator.Numerator > 6.5)]\n",
    "\n",
    "numerator_vs_denominator.Numerator.plot(kind='hist',\n",
    "                                        bins=8, figsize=(8, 5),\n",
    "                                        label='Number of Tweets')\n",
    "plt.legend(fontsize=14)\n",
    "plt.title('Distribution of Rating Scores', fontsize=14)\n",
    "plt.ylabel('Frequency', fontsize=14)\n",
    "plt.xlabel('Rating Numerator', fontsize=14)\n",
    "plt.yticks(fontsize=14)\n",
    "plt.xticks(fontsize=14)\n",
    "plt.savefig(fname='images/Frequency_distribution_of_rating_scores.png')\n",
    "plt.show();\n",
    "print('Still, {} records has rating numerator between 6.5 and 16.'.\n",
    "      format(len(numerator_vs_denominator)))\n",
    "print('The distribution seems left skewed. '+ \n",
    "      'This indicates that their ratings are more positive.')\n",
    "\n",
    "# Get the proportion of tweets with rating greater than 10\n",
    "percentage_above_10 = ((numerator_vs_denominator.Numerator.value_counts()/\n",
    "                         len(numerator_vs_denominator))*100).sort_index()\n",
    "print('This is because, {0:.2f}% of the ratings are above 10.'.\n",
    "      format(percentage_above_10[10:].sum()))"
   ]
  },
  {
   "cell_type": "markdown",
   "metadata": {},
   "source": [
    "\n",
    "<a id='research_question_2'></a>\n",
    "\n",
    "## Which Dog Breeds are the Most Popular on WeRateDogs?\n",
    "\n",
    "We have seen that ratings of WeRateDogs are positive, but which dog breeds are the most popular? Tweets may not contain information about the breed of a dog in the tweet. Hence; dog’s breed was predicted from its [picture in the tweet](#sample_tweet_by_WeRateDogs). As a result of this, tweets with prediction confidence greater than 85% were filtered. (371 tweets satisfy this criterion) Having said that, popularity can be defined from two perspectives.\n"
   ]
  },
  {
   "cell_type": "code",
   "execution_count": 50,
   "metadata": {
    "scrolled": false
   },
   "outputs": [
    {
     "name": "stdout",
     "output_type": "stream",
     "text": [
      "371 dog breed predictions have > 85% confidence level.\n"
     ]
    }
   ],
   "source": [
    "# Get dog breed predictions with confidence level > 85%\n",
    "confident_predictions = twitter_archive_master_copy[(\n",
    "    (twitter_archive_master_copy.p1_dog == True) & \n",
    "    (twitter_archive_master_copy.p1_conf > 0.85))]\n",
    "\n",
    "print('{} dog breed predictions have > 85% confidence level.'.\n",
    "      format(len(confident_predictions)))"
   ]
  },
  {
   "cell_type": "markdown",
   "metadata": {},
   "source": [
    "\n",
    "1. The _number of tweets_ that are posted about a certain dog breed. The figure below shows that Golden Retriever is the most tweeted dog breed. Tweets about Golden Retriever take around 14% of the total tweets. Hence; from the number of tweets perspective, Golden Retriever is the most popular dog breed on WeRateDogs.\n"
   ]
  },
  {
   "cell_type": "code",
   "execution_count": 52,
   "metadata": {},
   "outputs": [
    {
     "data": {
      "image/png": "[encoded data removed]",
      "text/plain": [
       "<Figure size 864x360 with 1 Axes>"
      ]
     },
     "metadata": {
      "needs_background": "light"
     },
     "output_type": "display_data"
    },
    {
     "name": "stdout",
     "output_type": "stream",
     "text": [
      "Based on number of tweets; Golden Retriever, Pembroke, Pug, Labrador Retriever, and Samoyed are the most popular.\n"
     ]
    }
   ],
   "source": [
    "# Get WeRateDogs' popular dog breed\n",
    "most_tweeted_breeds = confident_predictions.groupby(\n",
    "    ['p1'], as_index=False)['tweet_id'].count().sort_values(\n",
    "    ascending=False, by='tweet_id')\n",
    "\n",
    "# Get the top 5 rows\n",
    "top_5_most_tweeted_breeds = most_tweeted_breeds.head(5)\n",
    "top_5_most_tweeted_breeds.index = top_5_most_tweeted_breeds['p1'].str.replace(\n",
    "    '_', ' ').str.title().to_list()\n",
    "\n",
    "# Plot the top 5 most popular breeds \n",
    "top_5_most_tweeted_breeds = top_5_most_tweeted_breeds.rename(\n",
    "    columns={'tweet_id': 'Tweet Count'})\n",
    "top_5_most_tweeted_breeds.plot(kind='bar', figsize=(12,5), rot=0)\n",
    "plt.legend(fontsize=14)\n",
    "plt.title('Top 5 Most Tweeted Dog Breeds', fontsize=14)\n",
    "plt.ylabel('Tweet Counts', fontsize=14)\n",
    "plt.xlabel('Dog Breeds', fontsize=14)\n",
    "plt.yticks(fontsize=14)\n",
    "plt.xticks(fontsize=14)\n",
    "plt.savefig(fname='images/The_most_tweeted_dog_breeds.png')\n",
    "plt.show();\n",
    "print('Based on number of tweets; {}, {}, {}, {}, and {} are the most popular.'.\n",
    "      format(*top_5_most_tweeted_breeds.index.to_list()))"
   ]
  },
  {
   "cell_type": "markdown",
   "metadata": {},
   "source": [
    "\n",
    "2. The _number of likes_ a certain dog breed in a tweet gets. It is important to note that, this metric of popularity can be biased by the content of the tweeted text. This is because some of the tweets posted by WeRateDogs are funny, and the number of likes for a tweet may not necessarily be because of the dog in the tweet. As shown in the figure below Golden Retrievers are still the most popular breeds when considering the number of likes each breed got. The total number of likes that Golden Retrievers got is around 18% of the total likes. Hence; when considering the number of likes tweets get, tweets about Golden Retrievers are the most popular on WeRateDogs.\n"
   ]
  },
  {
   "cell_type": "code",
   "execution_count": 54,
   "metadata": {},
   "outputs": [
    {
     "data": {
      "image/png": "[encoded data removed]",
      "text/plain": [
       "<Figure size 864x360 with 1 Axes>"
      ]
     },
     "metadata": {
      "needs_background": "light"
     },
     "output_type": "display_data"
    },
    {
     "name": "stdout",
     "output_type": "stream",
     "text": [
      "Based on favorite counts; Golden Retriever, Labrador Retriever, Pembroke, Samoyed, and French Bulldog are the most popular.\n"
     ]
    }
   ],
   "source": [
    "# Get viewers' popular dog breed\n",
    "most_favorite_breeds = confident_predictions.groupby(\n",
    "    ['p1'], as_index=False)['favorite_count'].sum().sort_values(\n",
    "    ascending=False, by='favorite_count')\n",
    "\n",
    "# Get the top 5 rows\n",
    "top_5_most_favorite_breeds = most_favorite_breeds.head(5)\n",
    "top_5_most_favorite_breeds.index = top_5_most_favorite_breeds['p1'].str.replace(\n",
    "    '_', ' ').str.title().to_list()\n",
    "\n",
    "# Plot the top 5 most popular breeds \n",
    "top_5_most_favorite_breeds = top_5_most_favorite_breeds.rename(\n",
    "    columns={'favorite_count': 'Like Count'})\n",
    "top_5_most_favorite_breeds.plot(kind='bar', figsize=(12,5), colormap='Accent', rot=0)\n",
    "plt.title('Top 5 Most Liked Dog Breeds', fontsize=14)\n",
    "plt.legend(fontsize=14)\n",
    "plt.ylabel('Total Likes', fontsize=14)\n",
    "plt.xlabel('Dog Breeds', fontsize=14)\n",
    "plt.yticks(fontsize=14)\n",
    "plt.xticks(fontsize=14)\n",
    "plt.savefig(fname='images/The_most_liked_dog_breeds.png')\n",
    "plt.show();\n",
    "print('Based on favorite counts; {}, {}, {}, {}, and {} are the most popular.'\n",
    "      .format(*top_5_most_favorite_breeds.index.to_list()))"
   ]
  },
  {
   "cell_type": "markdown",
   "metadata": {},
   "source": [
    "\n",
    "<a id='research_question_3'></a>\n",
    "\n",
    "## Have the Ratings of WeRateDogs Been Consistent Through Time?\n",
    "\n",
    "Besides being a positive rating platform, what does their ratings trend look like? This question is important because, it is important to know when this positive rating was started. If there is consistency in their ratings throughout the years, then they could be deliberately making their ratings positive.\n"
   ]
  },
  {
   "cell_type": "code",
   "execution_count": 56,
   "metadata": {
    "scrolled": false
   },
   "outputs": [],
   "source": [
    "# Get the original master data\n",
    "twitter_archive_master = twitter_archive_master_copy\n",
    "\n",
    "# Get rows having rating numberator values between 6.5 and 16\n",
    "twitter_archive_master = twitter_archive_master[\n",
    "    (twitter_archive_master.rating_numerator < 16) & \n",
    "    (twitter_archive_master.rating_numerator > 6.5)]\n",
    "\n",
    "# Get ratings sorted by time\n",
    "time_vs_rating = twitter_archive_master[\n",
    "    ['timestamp', 'rating_numerator']].sort_values(by='timestamp')\n",
    "\n",
    "# For ease of analysis, convert timestamp to date\n",
    "time_vs_rating.timestamp = time_vs_rating.timestamp.dt.date\n",
    "\n",
    "# Group data on similar days togather.\n",
    "# Represent ratings of the day using their median \n",
    "time_vs_rating = time_vs_rating.groupby('timestamp').rating_numerator.median()\n",
    "\n",
    "# Compute 30 days moving average of ratings\n",
    "time_vs_rating = time_vs_rating.rolling(window=30).mean()\n",
    "time_vs_rating.name = '30 Days Moving Average'\n",
    "time_vs_rating.index = pd.to_datetime(time_vs_rating.index)"
   ]
  },
  {
   "cell_type": "markdown",
   "metadata": {},
   "source": [
    "\n",
    "As the figure below shows, their ratings were continuously increasing throughout the years. Hence; the higher positive ratings do not seem random; rather, seem to be deliberate as there is consistency.\n"
   ]
  },
  {
   "cell_type": "code",
   "execution_count": 58,
   "metadata": {},
   "outputs": [
    {
     "data": {
      "image/png": "[encoded data removed]",
      "text/plain": [
       "<Figure size 864x360 with 1 Axes>"
      ]
     },
     "metadata": {
      "needs_background": "light"
     },
     "output_type": "display_data"
    },
    {
     "name": "stdout",
     "output_type": "stream",
     "text": [
      "Their ratings were not just positive, but also have increased with time.\n"
     ]
    }
   ],
   "source": [
    "# Plot the time series data\n",
    "time_vs_rating.plot(figsize=(12,5), colormap='gist_rainbow')\n",
    "plt.legend(fontsize=14)\n",
    "plt.title('Trend of Ratings Through Time', fontsize=14)\n",
    "plt.ylabel('Rating Numerator', fontsize=14)\n",
    "plt.xlabel('Time', fontsize=14)\n",
    "plt.yticks(fontsize=14)\n",
    "plt.xticks(fontsize=14)\n",
    "plt.savefig(fname='images/Ratings_through_time.png')\n",
    "plt.show();\n",
    "\n",
    "print('Their ratings were not just positive, but also have increased with time.')"
   ]
  },
  {
   "cell_type": "markdown",
   "metadata": {},
   "source": [
    "\n",
    "<a id='conclusion'></a>\n",
    "\n",
    "# Conclusion\n",
    "\n",
    "The above analysis results indicate, the secrets behind popularity of WeRateDogs. Their ratings, in most of the cases, were positive. Furthermore; the higher positive ratings seem deliberate. The other finding was about the most popular dog breed. Results show that Golden Retrievers are the most tweeted and liked dog breeds. \n"
   ]
  }
 ],
 "metadata": {
  "kernelspec": {
   "display_name": "Python 3",
   "language": "python",
   "name": "python3"
  },
  "language_info": {
   "codemirror_mode": {
    "name": "ipython",
    "version": 3
   },
   "file_extension": ".py",
   "mimetype": "text/x-python",
   "name": "python",
   "nbconvert_exporter": "python",
   "pygments_lexer": "ipython3",
   "version": "3.7.3"
  }
 },
 "nbformat": 4,
 "nbformat_minor": 2
}
